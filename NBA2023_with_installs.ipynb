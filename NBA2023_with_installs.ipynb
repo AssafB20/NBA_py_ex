{
 "cells": [
  {
   "cell_type": "code",
   "execution_count": 1,
   "id": "62093638",
   "metadata": {
    "scrolled": true
   },
   "outputs": [],
   "source": [
    "#url = 'https://www.basketball-reference.com/leagues/NBA_2023_standings.html#all_confs_standings_E'"
   ]
  },
  {
   "cell_type": "code",
   "execution_count": 2,
   "id": "df84a06e",
   "metadata": {},
   "outputs": [],
   "source": [
    "#!pip install requests\n"
   ]
  },
  {
   "cell_type": "code",
   "execution_count": 3,
   "id": "3b7ae63f",
   "metadata": {},
   "outputs": [],
   "source": [
    "#!pip install pandas"
   ]
  },
  {
   "cell_type": "code",
   "execution_count": 4,
   "id": "d9a886ed",
   "metadata": {},
   "outputs": [],
   "source": [
    "#!pip install beautifulsoup4"
   ]
  },
  {
   "cell_type": "code",
   "execution_count": 5,
   "id": "0dfecc96",
   "metadata": {},
   "outputs": [],
   "source": [
    "#!pip install ipywidgets"
   ]
  },
  {
   "cell_type": "code",
   "execution_count": 6,
   "id": "073f5f73",
   "metadata": {},
   "outputs": [],
   "source": [
    "#!jupyter nbextension enable --py widgetsnbextension --sys-prefix;"
   ]
  },
  {
   "cell_type": "code",
   "execution_count": 7,
   "id": "92ea5724",
   "metadata": {},
   "outputs": [],
   "source": [
    "#!jupyter serverextension enable voila --sys-prefix;"
   ]
  },
  {
   "cell_type": "code",
   "execution_count": 8,
   "id": "55793c51",
   "metadata": {},
   "outputs": [],
   "source": [
    "#!pip install lxml"
   ]
  },
  {
   "cell_type": "code",
   "execution_count": 9,
   "id": "473ccf46",
   "metadata": {},
   "outputs": [],
   "source": [
    "#pip install schedule"
   ]
  },
  {
   "cell_type": "code",
   "execution_count": 10,
   "id": "e703b0aa",
   "metadata": {},
   "outputs": [],
   "source": [
    "from email.mime.text import MIMEText\n",
    "from email.mime.application import MIMEApplication\n",
    "from email.mime.multipart import MIMEMultipart\n",
    "from smtplib import SMTP\n",
    "import smtplib\n",
    "import sys\n",
    "\n",
    "import schedule\n",
    "import time\n",
    "\n",
    "import requests\n",
    "\n",
    "from bs4 import BeautifulSoup \n",
    "    \n",
    "import pandas as pd    \n"
   ]
  },
  {
   "cell_type": "code",
   "execution_count": 11,
   "id": "9780b46d",
   "metadata": {},
   "outputs": [],
   "source": [
    "def update_scores():\n",
    "    global df_scores\n",
    "    url = 'https://www.basketball-reference.com/leagues/NBA_2023_standings.html#all_confs_standings_E'\n",
    "    data = requests.get(url)\n",
    "\n",
    "    with open(\"stats.html\", \"w+\") as f:\n",
    "        f.write(data.text)\n",
    "    \n",
    "    with open(\"stats.html\") as f:\n",
    "        page = f.read()\n",
    "    \n",
    "    soup = BeautifulSoup(page, 'html.parser')\n",
    "\n",
    "    confs_standings_E = soup.find(id='confs_standings_E')\n",
    "    confs_standings_W = soup.find(id='confs_standings_W')\n",
    "    \n",
    "    confs_standings = pd.read_html(str(confs_standings_E) + str(confs_standings_W))\n",
    "    \n",
    "    df_E = confs_standings[0]\n",
    "    df_W = confs_standings[1]\n",
    "    df_E.rename({'Eastern Conference': 'Team'}, axis=1, inplace=True)\n",
    "    df_W.rename({'Western Conference': 'Team'}, axis=1, inplace=True)\n",
    "    \n",
    "    df_all = pd.concat([df_E, df_W], axis=0)\n",
    "    df_all.reset_index(drop=True, inplace=True)\n",
    "    \n",
    "    df_all['Team'] = df_all['Team'].str.split()\n",
    "    \n",
    "    for index, row in df_all.iterrows():\n",
    "        df_all['Team'][index] = row['Team'][-2]\n",
    "    \n",
    "    df = df_all[['Team','W','L']]\n",
    "    \n",
    "    Assaf = {'W':['Warriors','Lakers','76ers','Hawks'],'L':['Pistons','Hornets'], 'score':'', 'name':'Assaf'}\n",
    "    Iddo = {'W':['Bucks','Celtics','Suns','Bulls'], 'L':['Jazz','Kings'], 'score':'','name':'Iddo'}\n",
    "    Liad = {'W': ['Cavaliers','Nets','Rapators','Pelicans'],'L':['Rockets','Thunder'], 'score':'','name':'Liad'}\n",
    "    Yaniv = {'W':['Nuggets','Maverics','Wolves'],'L':['Spurs','Magic','Knicks'], 'score':'','name':'Yaniv'}\n",
    "    Berger = {'W':['Grizzlies','Clippers','Heat'],'L':['Pacers','Wizards','Blazers'], 'score':'','name':'Berger'}\n",
    "\n",
    "    names = [Assaf, Iddo, Liad, Yaniv, Berger]\n",
    "\n",
    "    for name in names:\n",
    "        name['score'] = df.loc[df['Team'].isin(name['W']),['W']].sum(axis=0)[0] + df.loc[df['Team'].isin(name['L']),['L']].sum(axis=0)[0]\n",
    "\n",
    "    df_scores = pd.DataFrame(names).set_index('name').sort_values('score',ascending=False)\n",
    "    \n",
    "   "
   ]
  },
  {
   "cell_type": "code",
   "execution_count": 12,
   "id": "91ed72e4",
   "metadata": {},
   "outputs": [],
   "source": [
    "def send_email():\n",
    "    \n",
    "    recipients = ['assafb20@gmail.com','yanivh42@gmail.com','iddomac@gmail.com','liad.porat@gmail.com'] \n",
    "    emaillist = [elem.strip().split(',') for elem in recipients]\n",
    "    msg = MIMEMultipart()\n",
    "    msg['Subject'] = \"Daily scores update\"\n",
    "    msg['From'] = 'assafb20@gmail.com'\n",
    "\n",
    "\n",
    "    html = \"\"\"\\\n",
    "    <html>\n",
    "      <head></head>\n",
    "      <body>\n",
    "        {0}\n",
    "      </body>\n",
    "    </html>\n",
    "    \"\"\".format(df_scores.to_html())\n",
    "\n",
    "    part1 = MIMEText(html, 'html')\n",
    "    msg.attach(part1)\n",
    "\n",
    "    mail = smtplib.SMTP('smtp.gmail.com', 587)\n",
    "    mail.ehlo()\n",
    "\n",
    "    mail.starttls()\n",
    "\n",
    "    mail.login('assafb20@gmail.com', 'jpytoageodnctktd')\n",
    "    mail.sendmail(msg['From'], emaillist , msg.as_string())\n",
    "    mail.quit()"
   ]
  },
  {
   "cell_type": "code",
   "execution_count": 13,
   "id": "7eb29f0e",
   "metadata": {
    "scrolled": false
   },
   "outputs": [
    {
     "name": "stderr",
     "output_type": "stream",
     "text": [
      "/var/folders/dk/mc88r6b94c1bd2g4pvrrcxww0000gn/T/ipykernel_85886/4089476920.py:30: SettingWithCopyWarning: \n",
      "A value is trying to be set on a copy of a slice from a DataFrame\n",
      "\n",
      "See the caveats in the documentation: https://pandas.pydata.org/pandas-docs/stable/user_guide/indexing.html#returning-a-view-versus-a-copy\n",
      "  df_all['Team'][index] = row['Team'][-2]\n"
     ]
    }
   ],
   "source": [
    "update_scores()"
   ]
  },
  {
   "cell_type": "code",
   "execution_count": 14,
   "id": "03401d96",
   "metadata": {},
   "outputs": [
    {
     "data": {
      "text/html": [
       "<div>\n",
       "<style scoped>\n",
       "    .dataframe tbody tr th:only-of-type {\n",
       "        vertical-align: middle;\n",
       "    }\n",
       "\n",
       "    .dataframe tbody tr th {\n",
       "        vertical-align: top;\n",
       "    }\n",
       "\n",
       "    .dataframe thead th {\n",
       "        text-align: right;\n",
       "    }\n",
       "</style>\n",
       "<table border=\"1\" class=\"dataframe\">\n",
       "  <thead>\n",
       "    <tr style=\"text-align: right;\">\n",
       "      <th></th>\n",
       "      <th>W</th>\n",
       "      <th>L</th>\n",
       "      <th>score</th>\n",
       "    </tr>\n",
       "    <tr>\n",
       "      <th>name</th>\n",
       "      <th></th>\n",
       "      <th></th>\n",
       "      <th></th>\n",
       "    </tr>\n",
       "  </thead>\n",
       "  <tbody>\n",
       "    <tr>\n",
       "      <th>Iddo</th>\n",
       "      <td>[Bucks, Celtics, Suns, Bulls]</td>\n",
       "      <td>[Jazz, Kings]</td>\n",
       "      <td>16</td>\n",
       "    </tr>\n",
       "    <tr>\n",
       "      <th>Liad</th>\n",
       "      <td>[Cavaliers, Nets, Rapators, Pelicans]</td>\n",
       "      <td>[Rockets, Thunder]</td>\n",
       "      <td>14</td>\n",
       "    </tr>\n",
       "    <tr>\n",
       "      <th>Berger</th>\n",
       "      <td>[Grizzlies, Clippers, Heat]</td>\n",
       "      <td>[Pacers, Wizards, Blazers]</td>\n",
       "      <td>13</td>\n",
       "    </tr>\n",
       "    <tr>\n",
       "      <th>Assaf</th>\n",
       "      <td>[Warriors, Lakers, 76ers, Hawks]</td>\n",
       "      <td>[Pistons, Hornets]</td>\n",
       "      <td>12</td>\n",
       "    </tr>\n",
       "    <tr>\n",
       "      <th>Yaniv</th>\n",
       "      <td>[Nuggets, Maverics, Wolves]</td>\n",
       "      <td>[Spurs, Magic, Knicks]</td>\n",
       "      <td>11</td>\n",
       "    </tr>\n",
       "  </tbody>\n",
       "</table>\n",
       "</div>"
      ],
      "text/plain": [
       "                                            W                           L  \\\n",
       "name                                                                        \n",
       "Iddo            [Bucks, Celtics, Suns, Bulls]               [Jazz, Kings]   \n",
       "Liad    [Cavaliers, Nets, Rapators, Pelicans]          [Rockets, Thunder]   \n",
       "Berger            [Grizzlies, Clippers, Heat]  [Pacers, Wizards, Blazers]   \n",
       "Assaf        [Warriors, Lakers, 76ers, Hawks]          [Pistons, Hornets]   \n",
       "Yaniv             [Nuggets, Maverics, Wolves]      [Spurs, Magic, Knicks]   \n",
       "\n",
       "        score  \n",
       "name           \n",
       "Iddo       16  \n",
       "Liad       14  \n",
       "Berger     13  \n",
       "Assaf      12  \n",
       "Yaniv      11  "
      ]
     },
     "execution_count": 14,
     "metadata": {},
     "output_type": "execute_result"
    }
   ],
   "source": [
    "df_scores"
   ]
  },
  {
   "cell_type": "code",
   "execution_count": 21,
   "id": "6a42f222",
   "metadata": {},
   "outputs": [
    {
     "data": {
      "text/plain": [
       "Every 1 day at 09:02:00 do update_scores() (last run: [never], next run: 2022-10-27 09:02:00)"
      ]
     },
     "execution_count": 21,
     "metadata": {},
     "output_type": "execute_result"
    }
   ],
   "source": [
    "schedule.every().day.at(\"09:02\").do(update_scores)"
   ]
  },
  {
   "cell_type": "code",
   "execution_count": 22,
   "id": "ac53e87c",
   "metadata": {},
   "outputs": [
    {
     "data": {
      "text/plain": [
       "Every 1 day at 09:02:00 do send_email() (last run: [never], next run: 2022-10-27 09:02:00)"
      ]
     },
     "execution_count": 22,
     "metadata": {},
     "output_type": "execute_result"
    }
   ],
   "source": [
    "schedule.every().day.at(\"09:02\").do(send_email)"
   ]
  },
  {
   "cell_type": "code",
   "execution_count": null,
   "id": "0a8c1f4f",
   "metadata": {},
   "outputs": [
    {
     "name": "stderr",
     "output_type": "stream",
     "text": [
      "/var/folders/dk/mc88r6b94c1bd2g4pvrrcxww0000gn/T/ipykernel_85886/4089476920.py:30: SettingWithCopyWarning: \n",
      "A value is trying to be set on a copy of a slice from a DataFrame\n",
      "\n",
      "See the caveats in the documentation: https://pandas.pydata.org/pandas-docs/stable/user_guide/indexing.html#returning-a-view-versus-a-copy\n",
      "  df_all['Team'][index] = row['Team'][-2]\n"
     ]
    }
   ],
   "source": [
    "while True:\n",
    " \n",
    "    # Checks whether a scheduled task\n",
    "    # is pending to run or not\n",
    "    schedule.run_pending()\n",
    "    time.sleep(1)"
   ]
  },
  {
   "cell_type": "code",
   "execution_count": null,
   "id": "f1398ce1",
   "metadata": {},
   "outputs": [],
   "source": []
  }
 ],
 "metadata": {
  "kernelspec": {
   "display_name": "Python 3 (ipykernel)",
   "language": "python",
   "name": "python3"
  },
  "language_info": {
   "codemirror_mode": {
    "name": "ipython",
    "version": 3
   },
   "file_extension": ".py",
   "mimetype": "text/x-python",
   "name": "python",
   "nbconvert_exporter": "python",
   "pygments_lexer": "ipython3",
   "version": "3.9.13"
  }
 },
 "nbformat": 4,
 "nbformat_minor": 5
}
